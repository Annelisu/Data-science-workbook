{
 "cells": [
  {
   "cell_type": "markdown",
   "id": "13f0914f-78c5-4cef-89bb-549c7e2ff0e5",
   "metadata": {
    "id": "skHfgkqlqndO"
   },
   "source": [
    "## Analysis of a car sell record Dataset\n",
    "\n",
    "We have been provided with a car sell record dataset. In this dataset, we have thounds of car sell records.\n",
    "\n",
    "The structure of this dataset is represented in the header shown below.\n",
    "\n",
    "name\n",
    "year\n",
    "selling_price\n",
    "km_driven\n",
    "fuel\n",
    "seller_type\n",
    "transmission\n",
    "Owner\n",
    "\n",
    "| name | year | selling_price | km_driven| fuel | seller_type | transmission | Owner |\n",
    "\n",
    "    | ---- | ---- | ---- | ---- | ---- | ---- | ---- | ---- |   \n",
    "    \n",
    "#### Description of Fields\n",
    "\n",
    "* __name__ - detail car type of the sold car\n",
    "* __year__ - Year of the car when it was bought\n",
    "* __selling_price__ - Price at which the car is being sold\n",
    "* __km_driven__ - Number of Kilometres the car is driven\n",
    "* __fuel__ - Fuel type of car (petrol / diesel / CNG / LPG / electric)\n",
    "* __seller_type__ - Tells if a Seller is Individual or a Dealer\n",
    "* __transmission__ - Gear transmission of the car (Automatic/Manual)\n",
    "* __owner__ - Number of previous owners of the car.\n",
    "\n",
    "There are four questions to explore with the data as shown below.\n"
   ]
  },
  {
   "cell_type": "code",
   "execution_count": 6,
   "id": "zNTpU9ToS8QK",
   "metadata": {
    "id": "zNTpU9ToS8QK"
   },
   "outputs": [],
   "source": [
    "your_name = \"Annelise Leonardo\"\n",
    "your_student_id = \"47535032\""
   ]
  },
  {
   "cell_type": "code",
   "execution_count": 8,
   "id": "giZ_rSg8ezK6",
   "metadata": {
    "colab": {
     "base_uri": "https://localhost:8080/"
    },
    "executionInfo": {
     "elapsed": 100002,
     "status": "ok",
     "timestamp": 1710290642987,
     "user": {
      "displayName": "Yuzhe Tian",
      "userId": "05567834028890049819"
     },
     "user_tz": -660
    },
    "id": "giZ_rSg8ezK6",
    "outputId": "5306c39c-4547-4a3c-a25a-b9bbef85cb8d"
   },
   "outputs": [],
   "source": [
    "# libraries you might need\n",
    "import pandas as pd\n",
    "import numpy as np\n",
    "import matplotlib.pyplot as plt\n",
    "%matplotlib inline\n",
    "\n",
    "# if you are using google colab with google drive, you could read files from google drive with the following codes\n",
    "# from google.colab import drive\n",
    "# drive.mount('/content/drive')"
   ]
  },
  {
   "cell_type": "markdown",
   "id": "-tb7B7VTqndQ",
   "metadata": {
    "id": "-tb7B7VTqndQ"
   },
   "source": [
    " ## Q1. Remove missing data\n",
    "\n",
    "Please remove the records that match ANY of the below two conditions in the csv file:\n",
    "\n",
    " * year is missing\n",
    " * fuel is 'none'\n",
    "\n",
    "__Display the DataFrame, counting number of Null values in each column, and print the length of the data__ before and after removing the missing data.  "
   ]
  },
  {
   "cell_type": "code",
   "execution_count": 10,
   "id": "2c3ccbde-bc20-4bf1-96e3-24c6aa617fa6",
   "metadata": {},
   "outputs": [
    {
     "data": {
      "text/html": [
       "<div>\n",
       "<style scoped>\n",
       "    .dataframe tbody tr th:only-of-type {\n",
       "        vertical-align: middle;\n",
       "    }\n",
       "\n",
       "    .dataframe tbody tr th {\n",
       "        vertical-align: top;\n",
       "    }\n",
       "\n",
       "    .dataframe thead th {\n",
       "        text-align: right;\n",
       "    }\n",
       "</style>\n",
       "<table border=\"1\" class=\"dataframe\">\n",
       "  <thead>\n",
       "    <tr style=\"text-align: right;\">\n",
       "      <th></th>\n",
       "      <th>Unnamed: 0</th>\n",
       "      <th>name</th>\n",
       "      <th>year</th>\n",
       "      <th>selling_price</th>\n",
       "      <th>km_driven</th>\n",
       "      <th>fuel</th>\n",
       "      <th>seller_type</th>\n",
       "      <th>transmission</th>\n",
       "      <th>owner</th>\n",
       "    </tr>\n",
       "  </thead>\n",
       "  <tbody>\n",
       "    <tr>\n",
       "      <th>0</th>\n",
       "      <td>0</td>\n",
       "      <td>Maruti 800 AC</td>\n",
       "      <td>2007.0</td>\n",
       "      <td>60000</td>\n",
       "      <td>70000</td>\n",
       "      <td>Petrol</td>\n",
       "      <td>Individual</td>\n",
       "      <td>Manual</td>\n",
       "      <td>First Owner</td>\n",
       "    </tr>\n",
       "    <tr>\n",
       "      <th>1</th>\n",
       "      <td>1</td>\n",
       "      <td>Maruti Wagon R LXI Minor</td>\n",
       "      <td>2007.0</td>\n",
       "      <td>135000</td>\n",
       "      <td>50000</td>\n",
       "      <td>Petrol</td>\n",
       "      <td>Individual</td>\n",
       "      <td>Manual</td>\n",
       "      <td>First Owner</td>\n",
       "    </tr>\n",
       "    <tr>\n",
       "      <th>2</th>\n",
       "      <td>2</td>\n",
       "      <td>Hyundai Verna 1.6 SX</td>\n",
       "      <td>2012.0</td>\n",
       "      <td>600000</td>\n",
       "      <td>100000</td>\n",
       "      <td>Diesel</td>\n",
       "      <td>Individual</td>\n",
       "      <td>Manual</td>\n",
       "      <td>First Owner</td>\n",
       "    </tr>\n",
       "    <tr>\n",
       "      <th>3</th>\n",
       "      <td>3</td>\n",
       "      <td>Datsun RediGO T Option</td>\n",
       "      <td>2017.0</td>\n",
       "      <td>250000</td>\n",
       "      <td>46000</td>\n",
       "      <td>Petrol</td>\n",
       "      <td>Individual</td>\n",
       "      <td>Manual</td>\n",
       "      <td>First Owner</td>\n",
       "    </tr>\n",
       "    <tr>\n",
       "      <th>4</th>\n",
       "      <td>4</td>\n",
       "      <td>Honda Amaze VX i-DTEC</td>\n",
       "      <td>2014.0</td>\n",
       "      <td>450000</td>\n",
       "      <td>141000</td>\n",
       "      <td>Diesel</td>\n",
       "      <td>Individual</td>\n",
       "      <td>Manual</td>\n",
       "      <td>Second Owner</td>\n",
       "    </tr>\n",
       "    <tr>\n",
       "      <th>...</th>\n",
       "      <td>...</td>\n",
       "      <td>...</td>\n",
       "      <td>...</td>\n",
       "      <td>...</td>\n",
       "      <td>...</td>\n",
       "      <td>...</td>\n",
       "      <td>...</td>\n",
       "      <td>...</td>\n",
       "      <td>...</td>\n",
       "    </tr>\n",
       "    <tr>\n",
       "      <th>4335</th>\n",
       "      <td>4335</td>\n",
       "      <td>Hyundai i20 Magna 1.4 CRDi (Diesel)</td>\n",
       "      <td>2014.0</td>\n",
       "      <td>409999</td>\n",
       "      <td>80000</td>\n",
       "      <td>Diesel</td>\n",
       "      <td>Individual</td>\n",
       "      <td>Manual</td>\n",
       "      <td>Second Owner</td>\n",
       "    </tr>\n",
       "    <tr>\n",
       "      <th>4336</th>\n",
       "      <td>4336</td>\n",
       "      <td>Hyundai i20 Magna 1.4 CRDi</td>\n",
       "      <td>2014.0</td>\n",
       "      <td>409999</td>\n",
       "      <td>80000</td>\n",
       "      <td>Diesel</td>\n",
       "      <td>Individual</td>\n",
       "      <td>Manual</td>\n",
       "      <td>Second Owner</td>\n",
       "    </tr>\n",
       "    <tr>\n",
       "      <th>4337</th>\n",
       "      <td>4337</td>\n",
       "      <td>Maruti 800 AC BSIII</td>\n",
       "      <td>2009.0</td>\n",
       "      <td>110000</td>\n",
       "      <td>83000</td>\n",
       "      <td>Petrol</td>\n",
       "      <td>Individual</td>\n",
       "      <td>Manual</td>\n",
       "      <td>Second Owner</td>\n",
       "    </tr>\n",
       "    <tr>\n",
       "      <th>4338</th>\n",
       "      <td>4338</td>\n",
       "      <td>Hyundai Creta 1.6 CRDi SX Option</td>\n",
       "      <td>2016.0</td>\n",
       "      <td>865000</td>\n",
       "      <td>90000</td>\n",
       "      <td>Diesel</td>\n",
       "      <td>Individual</td>\n",
       "      <td>Manual</td>\n",
       "      <td>First Owner</td>\n",
       "    </tr>\n",
       "    <tr>\n",
       "      <th>4339</th>\n",
       "      <td>4339</td>\n",
       "      <td>Renault KWID RXT</td>\n",
       "      <td>2016.0</td>\n",
       "      <td>225000</td>\n",
       "      <td>40000</td>\n",
       "      <td>Petrol</td>\n",
       "      <td>Individual</td>\n",
       "      <td>Manual</td>\n",
       "      <td>First Owner</td>\n",
       "    </tr>\n",
       "  </tbody>\n",
       "</table>\n",
       "<p>4340 rows × 9 columns</p>\n",
       "</div>"
      ],
      "text/plain": [
       "      Unnamed: 0                                 name    year  selling_price  \\\n",
       "0              0                        Maruti 800 AC  2007.0          60000   \n",
       "1              1             Maruti Wagon R LXI Minor  2007.0         135000   \n",
       "2              2                 Hyundai Verna 1.6 SX  2012.0         600000   \n",
       "3              3               Datsun RediGO T Option  2017.0         250000   \n",
       "4              4                Honda Amaze VX i-DTEC  2014.0         450000   \n",
       "...          ...                                  ...     ...            ...   \n",
       "4335        4335  Hyundai i20 Magna 1.4 CRDi (Diesel)  2014.0         409999   \n",
       "4336        4336           Hyundai i20 Magna 1.4 CRDi  2014.0         409999   \n",
       "4337        4337                  Maruti 800 AC BSIII  2009.0         110000   \n",
       "4338        4338     Hyundai Creta 1.6 CRDi SX Option  2016.0         865000   \n",
       "4339        4339                     Renault KWID RXT  2016.0         225000   \n",
       "\n",
       "      km_driven    fuel seller_type transmission         owner  \n",
       "0         70000  Petrol  Individual       Manual   First Owner  \n",
       "1         50000  Petrol  Individual       Manual   First Owner  \n",
       "2        100000  Diesel  Individual       Manual   First Owner  \n",
       "3         46000  Petrol  Individual       Manual   First Owner  \n",
       "4        141000  Diesel  Individual       Manual  Second Owner  \n",
       "...         ...     ...         ...          ...           ...  \n",
       "4335      80000  Diesel  Individual       Manual  Second Owner  \n",
       "4336      80000  Diesel  Individual       Manual  Second Owner  \n",
       "4337      83000  Petrol  Individual       Manual  Second Owner  \n",
       "4338      90000  Diesel  Individual       Manual   First Owner  \n",
       "4339      40000  Petrol  Individual       Manual   First Owner  \n",
       "\n",
       "[4340 rows x 9 columns]"
      ]
     },
     "execution_count": 10,
     "metadata": {},
     "output_type": "execute_result"
    }
   ],
   "source": [
    "# reads the dataFrame\n",
    "dataFrame = pd.read_csv(\"car_sell.csv\")\n",
    "\n",
    "# Displaying the DataFrame\n",
    "dataFrame\n"
   ]
  },
  {
   "cell_type": "code",
   "execution_count": 15,
   "id": "60e0b3da-1583-49eb-9c3a-b142ee4d6e3b",
   "metadata": {},
   "outputs": [
    {
     "data": {
      "text/html": [
       "<div>\n",
       "<style scoped>\n",
       "    .dataframe tbody tr th:only-of-type {\n",
       "        vertical-align: middle;\n",
       "    }\n",
       "\n",
       "    .dataframe tbody tr th {\n",
       "        vertical-align: top;\n",
       "    }\n",
       "\n",
       "    .dataframe thead th {\n",
       "        text-align: right;\n",
       "    }\n",
       "</style>\n",
       "<table border=\"1\" class=\"dataframe\">\n",
       "  <thead>\n",
       "    <tr style=\"text-align: right;\">\n",
       "      <th></th>\n",
       "      <th>Number of null values</th>\n",
       "    </tr>\n",
       "  </thead>\n",
       "  <tbody>\n",
       "    <tr>\n",
       "      <th>name</th>\n",
       "      <td>0</td>\n",
       "    </tr>\n",
       "    <tr>\n",
       "      <th>year</th>\n",
       "      <td>310</td>\n",
       "    </tr>\n",
       "    <tr>\n",
       "      <th>selling price</th>\n",
       "      <td>0</td>\n",
       "    </tr>\n",
       "    <tr>\n",
       "      <th>km driven</th>\n",
       "      <td>0</td>\n",
       "    </tr>\n",
       "    <tr>\n",
       "      <th>fuel</th>\n",
       "      <td>0</td>\n",
       "    </tr>\n",
       "    <tr>\n",
       "      <th>seller type</th>\n",
       "      <td>0</td>\n",
       "    </tr>\n",
       "    <tr>\n",
       "      <th>transmission</th>\n",
       "      <td>0</td>\n",
       "    </tr>\n",
       "    <tr>\n",
       "      <th>owner</th>\n",
       "      <td>0</td>\n",
       "    </tr>\n",
       "  </tbody>\n",
       "</table>\n",
       "</div>"
      ],
      "text/plain": [
       "               Number of null values\n",
       "name                               0\n",
       "year                             310\n",
       "selling price                      0\n",
       "km driven                          0\n",
       "fuel                               0\n",
       "seller type                        0\n",
       "transmission                       0\n",
       "owner                              0"
      ]
     },
     "execution_count": 15,
     "metadata": {},
     "output_type": "execute_result"
    }
   ],
   "source": [
    "count_nullValues = pd.DataFrame({\n",
    "    'Number of null values': [\n",
    "        dataFrame['name'].isnull().sum(),\n",
    "        dataFrame['year'].isnull().sum(),\n",
    "        dataFrame['selling_price'].isnull().sum(),\n",
    "        dataFrame['km_driven'].isnull().sum(),\n",
    "        dataFrame['fuel'].isnull().sum(),\n",
    "        dataFrame['seller_type'].isnull().sum(),\n",
    "        dataFrame['transmission'].isnull().sum(),\n",
    "        dataFrame['owner'].isnull().sum()\n",
    "    ]\n",
    "}, index=['name', 'year', 'selling price', 'km driven', 'fuel', 'seller type', 'transmission', 'owner'])\n",
    "\n",
    "# Counting no. of null values in each column\n",
    "count_nullValues"
   ]
  },
  {
   "cell_type": "code",
   "execution_count": 17,
   "id": "f47e843e-dffd-4be5-b710-ee91c2de3666",
   "metadata": {},
   "outputs": [
    {
     "name": "stdout",
     "output_type": "stream",
     "text": [
      "Before removal record: 4340\n",
      "After removal record: 3886\n"
     ]
    }
   ],
   "source": [
    "\n",
    "# Removing rows with missing 'year' values and rows where 'fuel' is 'none'\n",
    "filtered_data = dataFrame.dropna(subset=[\"year\"])\n",
    "filtered_data = filtered_data[filtered_data[\"fuel\"] != \"none\"]\n",
    "\n",
    "#Printing before and after removal record\n",
    "print(\"Before removal record:\", len(dataFrame))\n",
    "print(\"After removal record:\", len(filtered_data))\n",
    "\n"
   ]
  },
  {
   "cell_type": "markdown",
   "id": "a6cb21da-4340-4cfa-98c0-ba7e9a2a916d",
   "metadata": {
    "id": "EJG9_LEmqndR"
   },
   "source": [
    "## Q2. Descriptive statistics\n",
    "\n",
    "With the cleaned data in Q1, please provide the data summarization as below:\n",
    "\n",
    "* Q2.1 total number of unique name, unique seller_type, unique transmission, and unique owner\n",
    "* Q2.2 descriptive statistics, including the total number, mean, std, min and max regarding all km_driven\n",
    "* Q2.3 descriptive statistics, including mean, std, max, and min of the number of selling_price grouped by different seller_type\n",
    "* Q2.4 descriptive statistics, including mean, std, max, min of the number of years that sold by each owner type\n"
   ]
  },
  {
   "cell_type": "code",
   "execution_count": 95,
   "id": "b922710e-6022-4fbe-8310-721cbdf821b9",
   "metadata": {},
   "outputs": [
    {
     "name": "stdout",
     "output_type": "stream",
     "text": [
      "Total number of unique names: 1402\n",
      "Total number of unique seller type: 3\n",
      "Total number of unique transmission: 2\n",
      "Total number of unique owner: 5\n"
     ]
    }
   ],
   "source": [
    "# Q2.1 Calculating the total number of unique names, seller type, transmission and owner.\n",
    "unique_counts = {\n",
    "    'unique_name': filtered_data['name'].nunique(),\n",
    "    'unique_seller_type': filtered_data['seller_type'].nunique(),\n",
    "    'unique_transmission': filtered_data['transmission'].nunique(),\n",
    "    'unique_owner': filtered_data['owner'].nunique()\n",
    "}\n",
    "\n",
    "# print the result\n",
    "print(f\"Total number of unique names: {unique_counts['unique_name']}\")\n",
    "print(f\"Total number of unique seller type: {unique_counts['unique_seller_type']}\")\n",
    "print(f\"Total number of unique transmission: {unique_counts['unique_transmission']}\")\n",
    "print(f\"Total number of unique owner: {unique_counts['unique_owner']}\")"
   ]
  },
  {
   "cell_type": "code",
   "execution_count": 97,
   "id": "7a2fa7a3-6197-4ea4-b844-4cf4bbafa8d2",
   "metadata": {},
   "outputs": [
    {
     "name": "stdout",
     "output_type": "stream",
     "text": [
      "\n",
      "Descriptive statistics for km_driven:\n",
      "count      3886.000000\n",
      "mean      66313.279207\n",
      "std       46679.603916\n",
      "min           1.000000\n",
      "25%       35000.000000\n",
      "50%       60000.000000\n",
      "75%       90000.000000\n",
      "max      806599.000000\n",
      "Name: km_driven, dtype: float64\n"
     ]
    }
   ],
   "source": [
    "# Q2.2: Descriptive statistics for km_driven\n",
    "km_driven_stats = filtered_data['km_driven'].describe()\n",
    "\n",
    "# print the result\n",
    "print(\"\\nDescriptive statistics for km_driven:\")\n",
    "print(km_driven_stats)"
   ]
  },
  {
   "cell_type": "code",
   "execution_count": 27,
   "id": "798f7db1-9977-42ce-941d-7df1ed4dbcff",
   "metadata": {},
   "outputs": [
    {
     "data": {
      "text/plain": [
       "count       3.000000\n",
       "mean     1295.333333\n",
       "std      1447.912405\n",
       "min        94.000000\n",
       "25%       491.500000\n",
       "50%       889.000000\n",
       "75%      1896.000000\n",
       "max      2903.000000\n",
       "Name: number, dtype: float64"
      ]
     },
     "execution_count": 27,
     "metadata": {},
     "output_type": "execute_result"
    }
   ],
   "source": [
    "# Q2.3: Descriptive statistics for 'selling_price' grouped by 'seller_type'\n",
    "selling_price_stats = filtered_data.groupby('seller_type')['selling_price'].count().reset_index(name='number')\n",
    "\n",
    "selling_price_stats['number'].describe()\n"
   ]
  },
  {
   "cell_type": "code",
   "execution_count": 29,
   "id": "a5d64a9c-4e87-46b7-85cf-a917bb1dd436",
   "metadata": {},
   "outputs": [
    {
     "data": {
      "text/plain": [
       "count       5.000000\n",
       "mean      777.200000\n",
       "std      1057.123314\n",
       "min        14.000000\n",
       "25%        67.000000\n",
       "50%       273.000000\n",
       "75%      1000.000000\n",
       "max      2532.000000\n",
       "Name: count, dtype: float64"
      ]
     },
     "execution_count": 29,
     "metadata": {},
     "output_type": "execute_result"
    }
   ],
   "source": [
    "# Q2.4: Descriptive statistics for each owner type\n",
    "owner_type_stats = filtered_data.groupby(['owner'])['year'].count().reset_index(name='count')\n",
    "\n",
    "owner_type_stats['count'].describe()"
   ]
  },
  {
   "cell_type": "markdown",
   "id": "PISggxe5qndR",
   "metadata": {
    "id": "PISggxe5qndR"
   },
   "source": [
    "## Q3. Plotting and Analysis\n",
    "\n",
    "Please try to explore the correlation between fuel/year/seller_type/transmission/owner and selling_price; for instance, do First Owner cars tend to sell higher prices than second owner cars? Hint: you may use the boxplot function to plot figures for comparison\n",
    "    \n",
    "You may need to select the most suitable graphic forms for ease of presentation. Most importantly, for each figure or subfigure, please summarise ___what each plot shows___ (i.e. observations and explanations). Finally, you are required to provide an overall summary of your findings from the plots you generated."
   ]
  },
  {
   "cell_type": "code",
   "execution_count": 108,
   "id": "a3fde555-bf9e-4395-a72f-e1eed5a3840c",
   "metadata": {
    "scrolled": true
   },
   "outputs": [
    {
     "data": {
      "image/png": "[encoded data removed]",
      "text/plain": [
       "<Figure size 800x900 with 1 Axes>"
      ]
     },
     "metadata": {},
     "output_type": "display_data"
    }
   ],
   "source": [
    "import seaborn as sns\n",
    "order = ['First Owner', 'Second Owner', 'Third Owner', 'Fourth & Above Owner', 'Test Drive Car']\n",
    "\n",
    "# Create the boxplot for selling price by different owners \n",
    "plt.figure(figsize=(8,9))\n",
    "sns.boxplot(x='owner', y='selling_price', data=filtered_data, order=order, )\n",
    "plt.title('Selling Price by Different Owners')\n",
    "plt.xlabel('Owner Type')\n",
    "plt.ylabel('Selling Price')\n",
    "plt.xticks(rotation=50)\n",
    "plt.show()"
   ]
  },
  {
   "cell_type": "markdown",
   "id": "e9fc6aae-26b7-4b33-9872-46adebc7d598",
   "metadata": {},
   "source": [
    "### Observation and explanation:\n",
    "\n",
    "The selling price varies significantly across different ownership types. The distribution shows a wide range for first-owner cars, with most prices concentrated in the lower range. As the number of previous owners increases, the price range narrows. Second-owner cars display a slightly lower price range than first-owner cars. Third-owner cars exhibit an even lower selling price with a tighter distribution. This trend indicates that cars with multiple previous owners tend to decrease in value.\n",
    "\n",
    "However, test-drive cars have a higher selling price and the highest median price among all categories. This is likely because these cars are relatively new and have much less usage compared to cars with owners. Overall, the number of previous owners strongly influences the selling price, with fewer owners generally leading to a higher car value.\n"
   ]
  },
  {
   "cell_type": "code",
   "execution_count": 111,
   "id": "e5dc26eb-dccb-40bf-843b-eefc3ab230ec",
   "metadata": {},
   "outputs": [
    {
     "data": {
      "image/png": "[encoded data removed]",
      "text/plain": [
       "<Figure size 1000x600 with 1 Axes>"
      ]
     },
     "metadata": {},
     "output_type": "display_data"
    }
   ],
   "source": [
    "# Create the boxplot for selling price by transmission type\n",
    "plt.figure(figsize=(10, 6))\n",
    "sns.boxplot(x='transmission', y='selling_price', data=filtered_data)\n",
    "plt.title('Selling Price by Transmission Type')\n",
    "plt.xlabel('Transmission Type')\n",
    "plt.ylabel('Selling Price')\n",
    "plt.show()"
   ]
  },
  {
   "cell_type": "markdown",
   "id": "c68dbbb4-eb1a-4b18-847a-9c64e2dcdb7b",
   "metadata": {},
   "source": [
    "### observation and explanation:\n",
    "\n",
    "Manual cars have a much shorter price range and generally lower selling prices compared to automatic cars. In contrast, automatic cars have a higher median price, a wider range, and a higher upper quartile, which is close to two. This indicates that the price range for automatic cars is significantly more expensive than manual cars.\n",
    "\n"
   ]
  },
  {
   "cell_type": "code",
   "execution_count": 114,
   "id": "8f838b2f-f7fd-4bc5-a0ab-0685dfbd886f",
   "metadata": {},
   "outputs": [
    {
     "data": {
      "image/png": "[encoded data removed]",
      "text/plain": [
       "<Figure size 1000x600 with 1 Axes>"
      ]
     },
     "metadata": {},
     "output_type": "display_data"
    }
   ],
   "source": [
    "# Create the boxplot for selling price by fuel type\n",
    "plt.figure(figsize=(10, 6))\n",
    "sns.boxplot(x='fuel', y='selling_price', data=filtered_data)\n",
    "plt.title('Selling Price by Fuel Type')\n",
    "plt.xlabel('Fuel Type')\n",
    "plt.ylabel('Selling Price')\n",
    "plt.show()"
   ]
  },
  {
   "cell_type": "markdown",
   "id": "5369549a-da0b-45a5-acf7-ed69aba1c282",
   "metadata": {},
   "source": [
    "### observation and explanation:\n",
    "\n",
    "Diesel vehicles have the highest median selling price compared to other fuel types. In contrast, petrol vehicles have a wide range of selling prices but a lower median than diesel. Cars that use CNG, LPG, and electric power tend to have lower prices overall due to the lower median price. However, electric and LPG cars have very narrow boxplots, indicating that there might be insufficient information about cars using electric and LPG fuel.\n",
    "\n"
   ]
  },
  {
   "cell_type": "markdown",
   "id": "e937b34a-8aa7-4bf3-889e-9264213dfd70",
   "metadata": {},
   "source": [
    "### summary of the data:\n",
    "\n",
    "The dataset contains a total of 3,886 records with 454 missing records. The large amount of missing records may impact on the reliability of the analysis. In the first boxplot, it is observed that test drive cars have the highest median selling price compared to other cars, while cars that are most used have the lowest selling prices. This implies that cars with less usage tend to sell at higher prices. In terms of transmission type, manual cars generally have lower selling prices compared to automatic cars. Lastly, for the boxplot that compares fuel type and selling price, it is evident that Diesel has the highest median selling price among all fuel types. However, the price range for electric vehicles is very narrow, with prices fixed between 0 and 2. This suggests that there is not enough data to create a robust boxplot for electric and LPG vehicles.\n",
    "\n",
    "Moreover, there appears to be a positive correlation between owner type and selling price, as the boxplot shows a clear trend where more owners correlate to lower car prices. Transmission type also corresponds with selling price, as automatic cars have a higher median price than manual cars. However, the correlation between fuel type and selling price is weaker and difficult to infer selling prices based on fuel types, especially since the boxplots for LPG and electric cars are difficult to interpret due to the limited data available."
   ]
  },
  {
   "cell_type": "markdown",
   "id": "TxD3SLxRqndR",
   "metadata": {
    "id": "TxD3SLxRqndR"
   },
   "source": [
    "## Q4. Detect and remove outliers\n",
    "\n",
    "We define car sale records WITHOUT following ANY of the below three rules as outliers:\n",
    "\n",
    "1. owner to be first, second and third owner only\n",
    "2. Fuel to be Diesel or Petrol only\n",
    "3. Seller_type to be dealer or individual only\n",
    "\n",
    "Please remove the corresponding records in the csv file that is not qualified with the rules. After that, __print the length of the data__."
   ]
  },
  {
   "cell_type": "code",
   "execution_count": 71,
   "id": "d387d77c-2f52-4923-9c22-9de7adbcb911",
   "metadata": {},
   "outputs": [
    {
     "name": "stdout",
     "output_type": "stream",
     "text": [
      "Number of rows after removal record: 3657\n"
     ]
    }
   ],
   "source": [
    "\n",
    "# 1. Take first, second and third owner only\n",
    "filtered_data = filtered_data.drop(filtered_data[filtered_data[\"owner\"].isin([\"Fourth & Above Owner\", \"Test Drive Car\"])].index)\n",
    "\n",
    "# 2. Take only'CNG', 'LPG', or 'Electric' fuel type\n",
    "filtered_data = filtered_data.drop(filtered_data[filtered_data[\"fuel\"].isin([\"CNG\", \"LPG\", \"Electric\"])].index)\n",
    "\n",
    "# 3. Take only dealer or individual seller type\n",
    "filtered_data = filtered_data.drop(filtered_data[filtered_data[\"seller_type\"] == \"Trustmark Dealer\"].index)\n",
    "\n",
    "print(\"Number of rows after removal record:\",final_data_length)\n",
    "\n"
   ]
  }
 ],
 "metadata": {
  "colab": {
   "provenance": []
  },
  "kernelspec": {
   "display_name": "Python 3 (ipykernel)",
   "language": "python",
   "name": "python3"
  },
  "language_info": {
   "codemirror_mode": {
    "name": "ipython",
    "version": 3
   },
   "file_extension": ".py",
   "mimetype": "text/x-python",
   "name": "python",
   "nbconvert_exporter": "python",
   "pygments_lexer": "ipython3",
   "version": "3.12.4"
  }
 },
 "nbformat": 4,
 "nbformat_minor": 5
}
