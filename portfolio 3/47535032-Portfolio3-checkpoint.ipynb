{
 "cells": [
  {
   "cell_type": "markdown",
   "metadata": {
    "id": "n0ZKqZaTWkpg"
   },
   "source": [
    "# Portfolio Part 3 - Analysis of Loan Approval Data (2024 S2)"
   ]
  },
  {
   "cell_type": "markdown",
   "metadata": {
    "id": "O9R7rVmlXaMX"
   },
   "source": [
    "## Task background\n",
    "In this Portfolio task, you will work on a new dataset named 'Loan Approval' which is a modified version from a synthetic Dataset for Risk Assessment and Loan Approval Modeling (many thanks to LORENZO ZOPPELLETTO for the sharing of this dataset). This dataset comprises 20,000 records of personal and financial data, designed to facilitate the development of predictive models for risk assessment and loan approval. In this portfolio part, you are mainly required to train classification models to determine the outcome of loan approval, indicating whether an applicant is likely to be approved or denied for a loan.\n",
    "\n",
    "The dataset includes diverse features such as demographic information, credit history, employment status, income levels, existing debt, and other relevant financial metrics, providing a comprehensive foundation for sophisticated data-driven analysis and decision-making.\n",
    "\n",
    "The dataset includes the following columns:\n",
    "\n",
    "|Column|Meaning|\n",
    "|:-----|:-----|\n",
    "|ApplicationDate| Loan application date|\n",
    "|Age| Applicant's age|\n",
    "|AnnualIncome| Yearly income|\n",
    "|CreditScore| Creditworthiness score|\n",
    "|EmploymentStatus| Job situation|\n",
    "|EducationLevel| Highest education attained|\n",
    "|Experience| Work experience|\n",
    "|LoanAmount| Requested loan size|\n",
    "|LoanDuration| Loan repayment period|\n",
    "|MaritalStatus| Applicant's marital state|\n",
    "|NumberOfDependents| Number of dependents|\n",
    "|HomeOwnershipStatus| Homeownership type|\n",
    "|MonthlyDebtPayments| Monthly debt obligations|\n",
    "|CreditCardUtilizationRate| Credit card usage percentage|\n",
    "|NumberOfOpenCreditLines| Active credit lines|\n",
    "|NumberOfCreditInquiries| Credit checks count|\n",
    "|DebtToIncomeRatio| Debt to income proportion|\n",
    "|BankruptcyHistory| Bankruptcy records|\n",
    "|LoanPurpose| Reason for loan|\n",
    "|PreviousLoanDefaults| Prior loan defaults|\n",
    "|PaymentHistory| Past payment behavior|\n",
    "|LengthOfCreditHistory| Credit history duration|\n",
    "|SavingsAccountBalance| Savings account amount|\n",
    "|CheckingAccountBalance| Checking account funds|\n",
    "|TotalAssets| Total owned assets|\n",
    "|TotalLiabilities| Total owed debts|\n",
    "|MonthlyIncome| Income per month|\n",
    "|UtilityBillsPaymentHistory| Utility payment record|\n",
    "|JobTenure| Job duration|\n",
    "|NetWorth| Total financial worth|\n",
    "|BaseInterestRate| Starting interest rate|\n",
    "|InterestRate| Applied interest rate|\n",
    "|MonthlyLoanPayment| Monthly loan payment|\n",
    "|TotalDebtToIncomeRatio| Total debt against income|\n",
    "|LoanApproved| Loan approval status|\n",
    "|RiskScore| Risk assessment score|"
   ]
  },
  {
   "cell_type": "markdown",
   "metadata": {
    "id": "o0VDQbC-es_8"
   },
   "source": [
    "## Task Description\n",
    "Your high level goal in this notebook is to build and evaluate predictive models for 'loan approval' from other available features. More specifically, you need to complete the following major tasks:\n",
    "\n",
    "1. Clean and preprocess the dataset for the downstream data analysis tasks.\n",
    "\n",
    "2. Build and evaluate logistic regression models with this datasets.\n",
    "\n",
    "3. Build and evaluate KNN models with this datasets.\n",
    "\n",
    "Note 1: While the main steps of each task have been given with the requirements, you should learn how to properly organise and comment your notebook by yourself to ensure that your notebook file is professional and readable.\n",
    "\n",
    "Note 2: You will be evaluated on the accuracy of the model, the process that you produce the results,  and your clear description and justification of your implementation. So, try your best to comment your source code to showing your understanding and critical thinking.\n"
   ]
  },
  {
   "cell_type": "markdown",
   "metadata": {},
   "source": [
    "## Load the dataset and show the basic information"
   ]
  },
  {
   "cell_type": "code",
   "execution_count": 307,
   "metadata": {},
   "outputs": [
    {
     "data": {
      "text/html": [
       "<div>\n",
       "<style scoped>\n",
       "    .dataframe tbody tr th:only-of-type {\n",
       "        vertical-align: middle;\n",
       "    }\n",
       "\n",
       "    .dataframe tbody tr th {\n",
       "        vertical-align: top;\n",
       "    }\n",
       "\n",
       "    .dataframe thead th {\n",
       "        text-align: right;\n",
       "    }\n",
       "</style>\n",
       "<table border=\"1\" class=\"dataframe\">\n",
       "  <thead>\n",
       "    <tr style=\"text-align: right;\">\n",
       "      <th></th>\n",
       "      <th>ApplicationDate</th>\n",
       "      <th>Age</th>\n",
       "      <th>AnnualIncome</th>\n",
       "      <th>CreditScore</th>\n",
       "      <th>EmploymentStatus</th>\n",
       "      <th>EducationLevel</th>\n",
       "      <th>Experience</th>\n",
       "      <th>LoanAmount</th>\n",
       "      <th>LoanDuration</th>\n",
       "      <th>MaritalStatus</th>\n",
       "      <th>...</th>\n",
       "      <th>MonthlyIncome</th>\n",
       "      <th>UtilityBillsPaymentHistory</th>\n",
       "      <th>JobTenure</th>\n",
       "      <th>NetWorth</th>\n",
       "      <th>BaseInterestRate</th>\n",
       "      <th>InterestRate</th>\n",
       "      <th>MonthlyLoanPayment</th>\n",
       "      <th>TotalDebtToIncomeRatio</th>\n",
       "      <th>LoanApproved</th>\n",
       "      <th>RiskScore</th>\n",
       "    </tr>\n",
       "  </thead>\n",
       "  <tbody>\n",
       "    <tr>\n",
       "      <th>0</th>\n",
       "      <td>2018-01-01</td>\n",
       "      <td>45.0</td>\n",
       "      <td>39948</td>\n",
       "      <td>617</td>\n",
       "      <td>Employed</td>\n",
       "      <td>Master</td>\n",
       "      <td>22</td>\n",
       "      <td>13152</td>\n",
       "      <td>48</td>\n",
       "      <td>Married</td>\n",
       "      <td>...</td>\n",
       "      <td>3329.000000</td>\n",
       "      <td>0.724972</td>\n",
       "      <td>11</td>\n",
       "      <td>126928</td>\n",
       "      <td>0.199652</td>\n",
       "      <td>0.227590</td>\n",
       "      <td>419.805992</td>\n",
       "      <td>0.181077</td>\n",
       "      <td>0</td>\n",
       "      <td>NaN</td>\n",
       "    </tr>\n",
       "    <tr>\n",
       "      <th>1</th>\n",
       "      <td>2018-01-02</td>\n",
       "      <td>38.0</td>\n",
       "      <td>39709</td>\n",
       "      <td>628</td>\n",
       "      <td>Employed</td>\n",
       "      <td>Associate</td>\n",
       "      <td>15</td>\n",
       "      <td>26045</td>\n",
       "      <td>48</td>\n",
       "      <td>Single</td>\n",
       "      <td>...</td>\n",
       "      <td>3309.083333</td>\n",
       "      <td>0.935132</td>\n",
       "      <td>3</td>\n",
       "      <td>43609</td>\n",
       "      <td>0.207045</td>\n",
       "      <td>0.201077</td>\n",
       "      <td>794.054238</td>\n",
       "      <td>0.389852</td>\n",
       "      <td>0</td>\n",
       "      <td>52.0</td>\n",
       "    </tr>\n",
       "    <tr>\n",
       "      <th>2</th>\n",
       "      <td>2018-01-03</td>\n",
       "      <td>47.0</td>\n",
       "      <td>40724</td>\n",
       "      <td>570</td>\n",
       "      <td>Employed</td>\n",
       "      <td>Bachelor</td>\n",
       "      <td>26</td>\n",
       "      <td>17627</td>\n",
       "      <td>36</td>\n",
       "      <td>Married</td>\n",
       "      <td>...</td>\n",
       "      <td>3393.666667</td>\n",
       "      <td>0.872241</td>\n",
       "      <td>6</td>\n",
       "      <td>5205</td>\n",
       "      <td>0.217627</td>\n",
       "      <td>0.212548</td>\n",
       "      <td>666.406688</td>\n",
       "      <td>0.462157</td>\n",
       "      <td>0</td>\n",
       "      <td>NaN</td>\n",
       "    </tr>\n",
       "    <tr>\n",
       "      <th>3</th>\n",
       "      <td>2018-01-04</td>\n",
       "      <td>58.0</td>\n",
       "      <td>69084</td>\n",
       "      <td>545</td>\n",
       "      <td>Employed</td>\n",
       "      <td>High School</td>\n",
       "      <td>34</td>\n",
       "      <td>37898</td>\n",
       "      <td>96</td>\n",
       "      <td>Single</td>\n",
       "      <td>...</td>\n",
       "      <td>5757.000000</td>\n",
       "      <td>0.896155</td>\n",
       "      <td>5</td>\n",
       "      <td>99452</td>\n",
       "      <td>0.300398</td>\n",
       "      <td>0.300911</td>\n",
       "      <td>1047.506980</td>\n",
       "      <td>0.313098</td>\n",
       "      <td>0</td>\n",
       "      <td>NaN</td>\n",
       "    </tr>\n",
       "    <tr>\n",
       "      <th>4</th>\n",
       "      <td>2018-01-05</td>\n",
       "      <td>37.0</td>\n",
       "      <td>103264</td>\n",
       "      <td>594</td>\n",
       "      <td>Employed</td>\n",
       "      <td>Associate</td>\n",
       "      <td>17</td>\n",
       "      <td>9184</td>\n",
       "      <td>36</td>\n",
       "      <td>Married</td>\n",
       "      <td>...</td>\n",
       "      <td>8605.333333</td>\n",
       "      <td>0.941369</td>\n",
       "      <td>5</td>\n",
       "      <td>227019</td>\n",
       "      <td>0.197184</td>\n",
       "      <td>0.175990</td>\n",
       "      <td>330.179140</td>\n",
       "      <td>0.070210</td>\n",
       "      <td>1</td>\n",
       "      <td>NaN</td>\n",
       "    </tr>\n",
       "  </tbody>\n",
       "</table>\n",
       "<p>5 rows × 36 columns</p>\n",
       "</div>"
      ],
      "text/plain": [
       "  ApplicationDate   Age  AnnualIncome  CreditScore EmploymentStatus  \\\n",
       "0      2018-01-01  45.0         39948          617         Employed   \n",
       "1      2018-01-02  38.0         39709          628         Employed   \n",
       "2      2018-01-03  47.0         40724          570         Employed   \n",
       "3      2018-01-04  58.0         69084          545         Employed   \n",
       "4      2018-01-05  37.0        103264          594         Employed   \n",
       "\n",
       "  EducationLevel  Experience  LoanAmount  LoanDuration MaritalStatus  ...  \\\n",
       "0         Master          22       13152            48       Married  ...   \n",
       "1      Associate          15       26045            48        Single  ...   \n",
       "2       Bachelor          26       17627            36       Married  ...   \n",
       "3    High School          34       37898            96        Single  ...   \n",
       "4      Associate          17        9184            36       Married  ...   \n",
       "\n",
       "   MonthlyIncome UtilityBillsPaymentHistory  JobTenure  NetWorth  \\\n",
       "0    3329.000000                   0.724972         11    126928   \n",
       "1    3309.083333                   0.935132          3     43609   \n",
       "2    3393.666667                   0.872241          6      5205   \n",
       "3    5757.000000                   0.896155          5     99452   \n",
       "4    8605.333333                   0.941369          5    227019   \n",
       "\n",
       "   BaseInterestRate  InterestRate  MonthlyLoanPayment  TotalDebtToIncomeRatio  \\\n",
       "0          0.199652      0.227590          419.805992                0.181077   \n",
       "1          0.207045      0.201077          794.054238                0.389852   \n",
       "2          0.217627      0.212548          666.406688                0.462157   \n",
       "3          0.300398      0.300911         1047.506980                0.313098   \n",
       "4          0.197184      0.175990          330.179140                0.070210   \n",
       "\n",
       "  LoanApproved  RiskScore  \n",
       "0            0        NaN  \n",
       "1            0       52.0  \n",
       "2            0        NaN  \n",
       "3            0        NaN  \n",
       "4            1        NaN  \n",
       "\n",
       "[5 rows x 36 columns]"
      ]
     },
     "execution_count": 307,
     "metadata": {},
     "output_type": "execute_result"
    }
   ],
   "source": [
    "import pandas as pd\n",
    "\n",
    "data = pd.read_csv('loan_approval.csv')\n",
    "data.head()"
   ]
  },
  {
   "cell_type": "code",
   "execution_count": 308,
   "metadata": {},
   "outputs": [
    {
     "name": "stdout",
     "output_type": "stream",
     "text": [
      "<class 'pandas.core.frame.DataFrame'>\n",
      "RangeIndex: 20000 entries, 0 to 19999\n",
      "Data columns (total 36 columns):\n",
      " #   Column                      Non-Null Count  Dtype  \n",
      "---  ------                      --------------  -----  \n",
      " 0   ApplicationDate             20000 non-null  object \n",
      " 1   Age                         19900 non-null  float64\n",
      " 2   AnnualIncome                20000 non-null  int64  \n",
      " 3   CreditScore                 20000 non-null  int64  \n",
      " 4   EmploymentStatus            20000 non-null  object \n",
      " 5   EducationLevel              20000 non-null  object \n",
      " 6   Experience                  20000 non-null  int64  \n",
      " 7   LoanAmount                  20000 non-null  int64  \n",
      " 8   LoanDuration                20000 non-null  int64  \n",
      " 9   MaritalStatus               19900 non-null  object \n",
      " 10  NumberOfDependents          20000 non-null  int64  \n",
      " 11  HomeOwnershipStatus         20000 non-null  object \n",
      " 12  MonthlyDebtPayments         20000 non-null  int64  \n",
      " 13  CreditCardUtilizationRate   20000 non-null  float64\n",
      " 14  NumberOfOpenCreditLines     20000 non-null  int64  \n",
      " 15  NumberOfCreditInquiries     20000 non-null  int64  \n",
      " 16  DebtToIncomeRatio           20000 non-null  float64\n",
      " 17  BankruptcyHistory           20000 non-null  int64  \n",
      " 18  LoanPurpose                 20000 non-null  object \n",
      " 19  PreviousLoanDefaults        20000 non-null  int64  \n",
      " 20  PaymentHistory              20000 non-null  int64  \n",
      " 21  LengthOfCreditHistory       20000 non-null  int64  \n",
      " 22  SavingsAccountBalance       20000 non-null  int64  \n",
      " 23  CheckingAccountBalance      20000 non-null  int64  \n",
      " 24  TotalAssets                 20000 non-null  int64  \n",
      " 25  TotalLiabilities            20000 non-null  int64  \n",
      " 26  MonthlyIncome               20000 non-null  float64\n",
      " 27  UtilityBillsPaymentHistory  20000 non-null  float64\n",
      " 28  JobTenure                   20000 non-null  int64  \n",
      " 29  NetWorth                    20000 non-null  int64  \n",
      " 30  BaseInterestRate            20000 non-null  float64\n",
      " 31  InterestRate                20000 non-null  float64\n",
      " 32  MonthlyLoanPayment          20000 non-null  float64\n",
      " 33  TotalDebtToIncomeRatio      20000 non-null  float64\n",
      " 34  LoanApproved                20000 non-null  int64  \n",
      " 35  RiskScore                   1000 non-null   float64\n",
      "dtypes: float64(10), int64(20), object(6)\n",
      "memory usage: 5.5+ MB\n"
     ]
    }
   ],
   "source": [
    "data.info()"
   ]
  },
  {
   "cell_type": "code",
   "execution_count": 309,
   "metadata": {},
   "outputs": [
    {
     "data": {
      "text/plain": [
       "20000"
      ]
     },
     "execution_count": 309,
     "metadata": {},
     "output_type": "execute_result"
    }
   ],
   "source": [
    "data.shape [0]"
   ]
  },
  {
   "cell_type": "code",
   "execution_count": 310,
   "metadata": {},
   "outputs": [
    {
     "data": {
      "text/plain": [
       "Index(['ApplicationDate', 'Age', 'AnnualIncome', 'CreditScore',\n",
       "       'EmploymentStatus', 'EducationLevel', 'Experience', 'LoanAmount',\n",
       "       'LoanDuration', 'MaritalStatus', 'NumberOfDependents',\n",
       "       'HomeOwnershipStatus', 'MonthlyDebtPayments',\n",
       "       'CreditCardUtilizationRate', 'NumberOfOpenCreditLines',\n",
       "       'NumberOfCreditInquiries', 'DebtToIncomeRatio', 'BankruptcyHistory',\n",
       "       'LoanPurpose', 'PreviousLoanDefaults', 'PaymentHistory',\n",
       "       'LengthOfCreditHistory', 'SavingsAccountBalance',\n",
       "       'CheckingAccountBalance', 'TotalAssets', 'TotalLiabilities',\n",
       "       'MonthlyIncome', 'UtilityBillsPaymentHistory', 'JobTenure', 'NetWorth',\n",
       "       'BaseInterestRate', 'InterestRate', 'MonthlyLoanPayment',\n",
       "       'TotalDebtToIncomeRatio', 'LoanApproved', 'RiskScore'],\n",
       "      dtype='object')"
      ]
     },
     "execution_count": 310,
     "metadata": {},
     "output_type": "execute_result"
    }
   ],
   "source": [
    "data.columns"
   ]
  },
  {
   "cell_type": "markdown",
   "metadata": {},
   "source": [
    "## Task 1: Clean the datasets (10 marks)"
   ]
  },
  {
   "cell_type": "markdown",
   "metadata": {},
   "source": [
    "### Step 1.1 Handle the missing values with follwoing rules (5 marks)\n",
    "1. If over 50% of the values of a column, the column should be removed from the data frame; \n",
    "2. For a categorical column, if a row contains a missing value, you need to delete the whole row; \n",
    "3. For a numerical column, if a row contains a missing value, you need to perform a missing value imputation with the average value of the column."
   ]
  },
  {
   "cell_type": "code",
   "execution_count": 313,
   "metadata": {},
   "outputs": [
    {
     "name": "stdout",
     "output_type": "stream",
     "text": [
      "(19900, 35)\n"
     ]
    }
   ],
   "source": [
    "# 1. Remove columns where over 50% of values are missing\n",
    "missing_columns = 0.5 * len(data)\n",
    "clean_data = data.dropna(thresh=missing_columns, axis=1)\n",
    "\n",
    "# 2. Categorical column: remove missing values\n",
    "categorical_columns = clean_data.select_dtypes(include=['object']).columns\n",
    "clean_data = clean_data.dropna(subset=categorical_columns)\n",
    "\n",
    "# 3. Numerical Columns: remove missing values\n",
    "numerical_columns = clean_data.select_dtypes(include=['float64', 'int64']).columns\n",
    "clean_data[numerical_columns] = clean_data[numerical_columns].fillna(clean_data[numerical_columns].mean())\n",
    "\n",
    "print(clean_data.shape)\n",
    "   \n"
   ]
  },
  {
   "cell_type": "markdown",
   "metadata": {},
   "source": [
    "### Step 1.2 Handle categorical attributes (5 marks)\n",
    "1. If all the categorical values of a column are unique, this column does not provide any statistical informaiton and should be deleted.\n",
    "2. Use one hot encoding to convert the categorical values into numerical ones."
   ]
  },
  {
   "cell_type": "code",
   "execution_count": 319,
   "metadata": {},
   "outputs": [
    {
     "name": "stdout",
     "output_type": "stream",
     "text": [
      "(19900, 45)\n"
     ]
    }
   ],
   "source": [
    "# Remove unique values in the categorical columns\n",
    "categorical_columns = clean_data.select_dtypes(include=['object']).columns  \n",
    "\n",
    "# iterate and drop the unique values\n",
    "for unique_col in categorical_columns:\n",
    "    if unique_col in clean_data.columns and clean_data[unique_col].nunique() == len(clean_data):\n",
    "        clean_data = clean_data.drop(unique_col, axis=1)\n",
    "\n",
    "# Apply one-hot encoding to convert categorical values into numerical ones\n",
    "categorical_columns = clean_data.select_dtypes(include=['object']).columns  \n",
    "clean_data = pd.get_dummies(clean_data, columns=categorical_columns, drop_first=True)\n",
    "\n",
    "print(clean_data.shape)"
   ]
  },
  {
   "cell_type": "markdown",
   "metadata": {},
   "source": [
    "## Task 2: Build a logistic regression classification model (25 marks)"
   ]
  },
  {
   "cell_type": "markdown",
   "metadata": {},
   "source": [
    "### Step 2.1 Specify the features and the label, and split the dataset into training data and testing data (5 marks)\n",
    "1. The attirbute \"LoanApproved\" is the label, which is the prediction target. The remaining attributes are the features.\n",
    "2. The ratio for splitting the dataset is 80% for training and 20% for testing. Note that you need to set the \"random_state\" parameter as your student ID to produce your personlised splitting. Failing to do so will lose marks."
   ]
  },
  {
   "cell_type": "code",
   "execution_count": 322,
   "metadata": {},
   "outputs": [
    {
     "name": "stdout",
     "output_type": "stream",
     "text": [
      "Training feature: (15920, 44)\n",
      "Testing feature: (3980, 44)\n",
      "Training label: (15920,)\n",
      "Testing label: (3980,)\n"
     ]
    }
   ],
   "source": [
    "from sklearn.linear_model import LogisticRegression\n",
    "from sklearn.metrics import accuracy_score, f1_score\n",
    "from sklearn.model_selection import train_test_split\n",
    "from sklearn.preprocessing import StandardScaler\n",
    "from sklearn.feature_selection import RFE\n",
    "from sklearn.neighbors import KNeighborsClassifier\n",
    "from sklearn.model_selection import GridSearchCV, cross_val_score\n",
    "\n",
    "import matplotlib.pyplot as plt\n",
    "import numpy as np\n",
    "\n",
    "\n",
    "# Lable the 'loan approved' attribute and the remaining are the features\n",
    "X = clean_data.drop('LoanApproved', axis=1)  \n",
    "y = clean_data['LoanApproved']  \n",
    "\n",
    "# Splitting the data to 80% training and 20% testing, with random_state set to my studentID\n",
    "X_train, X_test, y_train, y_test = train_test_split(X, y, test_size=0.2, random_state=47535032)\n",
    "\n",
    "print(\"Training feature:\", X_train.shape)\n",
    "print(\"Testing feature:\", X_test.shape)\n",
    "print(\"Training label:\", y_train.shape)\n",
    "print(\"Testing label:\", y_test.shape)\n",
    "\n"
   ]
  },
  {
   "cell_type": "markdown",
   "metadata": {},
   "source": [
    "### Step 2.2 Build a logistic regression model (10 marks)\n",
    "1. Train a logistic regression model\n",
    "2. Report two classification performance metrics (accuracy and f1-score) on the testing data\n",
    "3. Also report the two metrics on the training data, and compare the results with that of the testing data. Make a justification on whether the model is overfitting based on the comparison."
   ]
  },
  {
   "cell_type": "code",
   "execution_count": 325,
   "metadata": {},
   "outputs": [
    {
     "name": "stdout",
     "output_type": "stream",
     "text": [
      "Testing Data:\n",
      "Accuracy: 0.9668341708542714\n",
      "F1-Score: 0.9305263157894736\n",
      "\n",
      "Training Data:\n",
      "Accuracy: 0.9658291457286432\n",
      "F1-Score: 0.9277940005309264\n"
     ]
    }
   ],
   "source": [
    "# Scaling the data\n",
    "scaler = StandardScaler()\n",
    "X_train_scaled = scaler.fit_transform(X_train)\n",
    "X_test_scaled = scaler.transform(X_test)\n",
    "\n",
    "# Initialise and train the logistic regression model on scaled data\n",
    "logistic_model = LogisticRegression(solver='liblinear', max_iter=2000)\n",
    "logistic_model.fit(X_train_scaled, y_train)\n",
    "\n",
    "# Make predictions with test and training data using the scaled datasets\n",
    "y_test_predict = logistic_model.predict(X_test_scaled)\n",
    "y_train_predict = logistic_model.predict(X_train_scaled)\n",
    "\n",
    "# Calculate the performance metrics on testing and training data\n",
    "test_accuracy = accuracy_score(y_test, y_test_predict)\n",
    "test_f1_score = f1_score(y_test, y_test_predict)\n",
    "\n",
    "train_accuracy = accuracy_score(y_train, y_train_predict)\n",
    "train_f1_score = f1_score(y_train, y_train_predict)\n",
    "\n",
    "print(\"Testing Data:\")\n",
    "\n",
    "print(f\"Accuracy: {test_accuracy}\")\n",
    "print(f\"F1-Score: {test_f1_score}\")\n",
    "\n",
    "print(\"\\nTraining Data:\")\n",
    "print(f\"Accuracy: {train_accuracy}\")\n",
    "print(f\"F1-Score: {train_f1_score}\")\n",
    "\n"
   ]
  },
  {
   "cell_type": "markdown",
   "metadata": {},
   "source": [
    "## Report of the Two Metrics\n",
    "\n",
    "### Accuracy \n",
    "Comparing the accuracy for both the training and testing data reveals an almost identical result. The training accuracy is 96.58%, while the testing accuracy is 96.68%. This means that the model is generalizing well to unseen data. The small gap between the testing and training data shows that the model performs well across both datasets.\n",
    "\n",
    "If the training accuracy were significantly higher than the testing accuracy, it would suggest that the model is overfitting. However, since the results are nearly identical, with minimal differences between the two, there are no signs of overfitting.\n",
    "\n",
    "### F1-Score\n",
    "The F1-scores for both the training and testing data also show very similar results, with the testing F1-score at 0.931 and the training F1-score at 0.928. This consistency suggests that there is no overfitting, and both datasets are handled consistently and precisely.\n",
    "\n",
    "Moreover, the small difference between the F1-scores implies that the model generalizes well to unseen data. The logistic regression model is neither overfitting nor underfitting, and the minimal difference further indicates that the model performs well in managing false positives and false negatives across both datasets.\n",
    "\n",
    "### Conclusion\n",
    "The logistic regression model demonstrates consistent performance across both the training and testing datasets, as evidenced by the high values for both accuracy and F1-scores. The small gap between these metrics shows that the model is not overfitting and can effectively generalize to unseen data.\n"
   ]
  },
  {
   "cell_type": "markdown",
   "metadata": {},
   "source": [
    "### Step 2.3 Perform the recursive feature elimination (RFE) technique to identify the effective features for building the model (10 marks)\n",
    "1. Visulise the change of the two performance metrics with respect to the number of eliminated features using a line chart.\n",
    "2. In terms of the visualisation result, select a good value for the number of eliminated features with considering both performance maximisation and feature minimisation (two competing goals). Run the RFE again with the chosen number of eliminated features to obtain the corresponding set of retained features."
   ]
  },
  {
   "cell_type": "code",
   "execution_count": 328,
   "metadata": {},
   "outputs": [
    {
     "data": {
      "image/png": "[encoded data removed]",
      "text/plain": [
       "<Figure size 1000x500 with 1 Axes>"
      ]
     },
     "metadata": {},
     "output_type": "display_data"
    }
   ],
   "source": [
    "# Initialise the logistic model\n",
    "logistic_model = LogisticRegression(solver='liblinear', max_iter=2000)\n",
    "\n",
    "# to list the f1 scores and accuracy\n",
    "accuracy_scores = []\n",
    "f1_scores = []\n",
    "\n",
    "# use various numbers of features to perform RFE\n",
    "for selecting in range(1, X_train_scaled.shape[1] + 1):\n",
    "    rfe = RFE(estimator=logistic_model, n_features_to_select=selecting)  # Corrected here\n",
    "    rfe.fit(X_train_scaled, y_train)\n",
    "    \n",
    "    y_test_predict = rfe.predict(X_test_scaled)\n",
    "    \n",
    "    # Calculate accuracy and F1-score\n",
    "    test_accuracy = accuracy_score(y_test, y_test_predict)\n",
    "    test_f1_score = f1_score(y_test, y_test_predict)\n",
    "    \n",
    "    # Store the results\n",
    "    accuracy_scores.append(test_accuracy)\n",
    "    f1_scores.append(test_f1_score)\n",
    "\n",
    "# Plot the performance metrics for certain features\n",
    "plt.figure(figsize=(10, 5))\n",
    "plt.plot(range(1, X_train_scaled.shape[1] + 1), accuracy_scores, label=\"Accuracy\")\n",
    "plt.plot(range(1, X_train_scaled.shape[1] + 1), f1_scores, label=\"F1-Score\")\n",
    "plt.xlabel('Number of Selected Features')\n",
    "plt.ylabel('Performance Metric')\n",
    "plt.title('Accuracy and F1-Score vs Number of Selected Features')\n",
    "plt.legend()\n",
    "plt.grid(True)\n",
    "plt.show()\n"
   ]
  },
  {
   "cell_type": "code",
   "execution_count": 329,
   "metadata": {},
   "outputs": [
    {
     "name": "stdout",
     "output_type": "stream",
     "text": [
      "Selected features: ['CreditScore', 'LoanAmount', 'BankruptcyHistory', 'PreviousLoanDefaults', 'LengthOfCreditHistory', 'MonthlyIncome', 'NetWorth', 'InterestRate', 'TotalDebtToIncomeRatio', 'EducationLevel_High School']\n"
     ]
    }
   ],
   "source": [
    "logistic_model = LogisticRegression(solver='liblinear', max_iter=2000)\n",
    "\n",
    "# Run RFE again with the chosen number of features\n",
    "rfe_optimal = RFE(estimator=logistic_model, n_features_to_select=10)\n",
    "rfe_optimal.fit(X_train_scaled, y_train)\n",
    "\n",
    "# Get the list of retained features\n",
    "selected_features = X_train.columns[rfe_optimal.support_]\n",
    "\n",
    "# Print the r features\n",
    "print(f\"Selected features: {list(selected_features)}\")"
   ]
  },
  {
   "cell_type": "markdown",
   "metadata": {},
   "source": [
    "## Task 3: Build a KNN classification model (25 marks)"
   ]
  },
  {
   "cell_type": "markdown",
   "metadata": {},
   "source": [
    "### Step 3.1 Build 1-NN classifier (5 marks)\n",
    "1. Slect the features identifed in Step 2.3 for this task\n",
    "2. Buid 1-NN classifier and report two classification performance metrics (accuracy and f1-score) on the testing data\n",
    "3. Also report the two metrics on the training data, and compare the results with that of the testing data. Make a justification on whether the model is overfitting based on the comparison."
   ]
  },
  {
   "cell_type": "code",
   "execution_count": 333,
   "metadata": {
    "scrolled": true
   },
   "outputs": [
    {
     "name": "stdout",
     "output_type": "stream",
     "text": [
      "Training Data:\n",
      "Accuracy: 1.0\n",
      "F1-Score: 1.0\n",
      "Testing Data:\n",
      "Accuracy: 0.9108040201005025\n",
      "F1-Score: 0.8112706007442849\n"
     ]
    }
   ],
   "source": [
    "# Scaling Data\n",
    "scaling_X_train = scaler.fit_transform(X_train)\n",
    "X_test_scaled = scaler.transform(X_test)\n",
    "\n",
    "# Re-run RFE with logistic regression and select top 10 features\n",
    "rfe = RFE(estimator=logistic_model, n_features_to_select=10)\n",
    "rfe.fit(X_train_scaled, y_train)\n",
    "\n",
    "# Transform the data based on selected features\n",
    "X_train_selected = rfe.transform(X_train_scaled)\n",
    "X_test_selected = rfe.transform(X_test_scaled)\n",
    "\n",
    "# Initialize and train the 1-NN classifier\n",
    "knn = KNeighborsClassifier(n_neighbors=1)\n",
    "knn.fit(X_train_selected, y_train)\n",
    "\n",
    "# Make predictions for training and testing data\n",
    "y_train_predict = knn.predict(X_train_selected)\n",
    "y_test_predict = knn.predict(X_test_selected)\n",
    "\n",
    "# Calculate accuracy and F1-score for training and testing data\n",
    "train_accuracy = accuracy_score(y_train, y_train_predict)\n",
    "train_f1_score = f1_score(y_train, y_train_predict)\n",
    "\n",
    "test_accuracy = accuracy_score(y_test, y_test_predict)\n",
    "test_f1_score = f1_score(y_test, y_test_predict)\n",
    "\n",
    "# Display the results\n",
    "\n",
    "print(\"Training Data:\")\n",
    "\n",
    "print(f\"Accuracy: {train_accuracy}\")\n",
    "print(f\"F1-Score: {train_f1_score}\")\n",
    "\n",
    "print(\"Testing Data:\")\n",
    "print(f\"Accuracy: {test_accuracy}\")\n",
    "print(f\"F1-Score: {test_f1_score}\")\n"
   ]
  },
  {
   "cell_type": "markdown",
   "metadata": {},
   "source": [
    "### Testing and training data results\n",
    "\n",
    "Testing Data ( Accuracy = 91.08% , F1-Score = 0.811 )\n",
    "Training Data ( Accuracy = 100 % , F1-Score = 1.0 )\n",
    "\n",
    "### Training Data Observation\n",
    "For the 1-NN classifier, the F1-score on the training data shows perfect accuracy, indicating that it classifies all training samples correctly. This result is expected for 1-NN, as the model essentially memorizes the training dataset and directly uses it to classify new points.\n",
    "\n",
    "While this may seem ideal for the training data, the perfect accuracy is a clear sign of overfitting. The model is overly specialized in the training set and memorizes the exact positions of all training data points, which is characteristic of the 1-NN algorithm.\n",
    "\n",
    "### Testing Data Observation\n",
    "In contrast, the testing data shows a slight decrease in accuracy to 91.08%, with the F1-score dropping to 0.811. Although these are still high-performance values, the large gap between the training and testing performance indicates that the model is overfitting and struggles to generalize to unseen data.\n",
    "\n",
    "The drop in the F1-score on the testing data suggests that the model's precision and recall for the positive class have been significantly impacted.\n",
    "\n",
    "### Conclusion\n",
    "The overfitting in the model is caused by the 1-NN classifier, which memorizes the training data without any regularization. The high performance on the training set indicates that the model is too specific to the training data points, and as a result, it does not generalize well to new, unseen data. To improve the model, using the cross-validation method, consider other machine-learning techniques or experiment with different values of K.\n",
    "\n",
    "\n"
   ]
  },
  {
   "cell_type": "markdown",
   "metadata": {},
   "source": [
    "### Step 3.2 Use the grid search and cross validation techniques to study the performance change with respect to the hyperparameter K (10 marks)\n",
    "1. User grid search to search K in the range (1, 30) both inclusive with 5-fold cross validation. The performance metric used for search is accuracy.\n",
    "2. Visualise the performance change with respect to K using a line chart. Report the two performance metrics for the best case."
   ]
  },
  {
   "cell_type": "code",
   "execution_count": 337,
   "metadata": {},
   "outputs": [
    {
     "data": {
      "image/png": "[encoded data removed]",
      "text/plain": [
       "<Figure size 1000x600 with 1 Axes>"
      ]
     },
     "metadata": {},
     "output_type": "display_data"
    },
    {
     "name": "stdout",
     "output_type": "stream",
     "text": [
      "Best K: 17\n",
      "Testing Data:\n",
      "Accuracy: 0.9331658291457287\n",
      "F1-Score: 0.8520578420467185\n",
      "\n",
      "Training Data:\n",
      "Accuracy: 0.9435301507537689\n",
      "F1-Score: 0.8737536862800168\n"
     ]
    }
   ],
   "source": [
    "# take various range of k-values\n",
    "grid = {'n_neighbors': list(range(1, 31))}\n",
    "\n",
    "# initialise the 5-fold cross-validation\n",
    "knn = KNeighborsClassifier()\n",
    "grid_search = GridSearchCV(estimator=knn, param_grid=param_grid, cv=5, scoring='accuracy')\n",
    "grid_search.fit(X_train_selected, y_train)\n",
    "\n",
    "# retreive grid results\n",
    "k_values = list(range(1, 31))\n",
    "grid_search_results = grid_search.cv_results_\n",
    "\n",
    "# extract mean accuracy for K\n",
    "mean_accuracies = grid_search_results['mean_test_score']\n",
    "\n",
    "# Plotting\n",
    "plt.figure(figsize=(10, 6))\n",
    "plt.plot(k_values, mean_accuracies, marker='o', label='Accuracy')\n",
    "plt.xlabel('Number of Neighbors (K)')\n",
    "plt.ylabel('Accuracy')\n",
    "plt.title('performance change with respect to the hyperparameter K')\n",
    "plt.grid(True)\n",
    "plt.show()\n",
    "\n",
    "# Get the best K from the grid search\n",
    "best_k = grid_search.best_params_['n_neighbors']\n",
    "\n",
    "best_knn = KNeighborsClassifier(n_neighbors=best_k)\n",
    "best_knn.fit(X_train_selected, y_train)\n",
    "\n",
    "# Find predictions with the best model\n",
    "y_test_predict = best_knn.predict(X_test_selected)\n",
    "y_train_predict = best_knn.predict(X_train_selected)\n",
    "\n",
    "best_test_accuracy = accuracy_score(y_test, y_test_predict)\n",
    "best_test_f1_score = f1_score(y_test, y_test_predict)\n",
    "\n",
    "best_train_accuracy = accuracy_score(y_train, y_train_predict)\n",
    "best_train_f1_score = f1_score(y_train, y_train_predict)\n",
    "\n",
    "# results\n",
    "print(f\"Best K: {best_k}\")\n",
    "\n",
    "print(\"Testing Data:\")\n",
    "print(f\"Accuracy: {best_test_accuracy}\")\n",
    "print(f\"F1-Score: {best_test_f1_score}\")\n",
    "\n",
    "print(\"\\nTraining Data:\")\n",
    "print(f\"Accuracy: {best_train_accuracy}\")\n",
    "print(f\"F1-Score: {best_train_f1_score}\")\n"
   ]
  },
  {
   "cell_type": "markdown",
   "metadata": {},
   "source": [
    "## The best case and performance on the metrics\n",
    "\n",
    "### Testing Data:\n",
    "* Accuracy = 93.32%\n",
    "* F1-Score = 0.852\n",
    "\n",
    "### Training Data:\n",
    "* Accuracy = 94.35%\n",
    "* F1-Score = 0.874\n",
    "\n",
    "### Results for the Best K (K = 17)\n",
    "\n",
    "### Findings :\n",
    "* The best value for the number of neighbours in the KNN model is 17.\n",
    "* Based on the accuracy of the testing data shows that the model generalises well to unseen data and the F1-score is also close to the testing score, showing signs of a good balance between precision and recall for the positive class.\n",
    "* While the training performance shows a slightly higher accuracy compared to the testing accuracy, the F1-score is also close to the testing score, implying that the model is not overfitting.\n",
    "\n",
    "\n"
   ]
  },
  {
   "cell_type": "markdown",
   "metadata": {},
   "source": [
    "### Step 3.3 Study how the distance metrics affect the model performance (10 marks)\n",
    "1. Change the distance metric parameter to 3 distance types: 'euclidean'(also l2), 'l1', and 'cosine', respectively, and visualise the model performance with these 3 distances, using a bar chart for both accuracy and f1 scores.\n",
    "2. Compare the performance metrics, which is the best? Which is the worest?"
   ]
  },
  {
   "cell_type": "code",
   "execution_count": 342,
   "metadata": {},
   "outputs": [
    {
     "data": {
      "image/png": "[encoded data removed]",
      "text/plain": [
       "<Figure size 1200x600 with 2 Axes>"
      ]
     },
     "metadata": {},
     "output_type": "display_data"
    },
    {
     "name": "stdout",
     "output_type": "stream",
     "text": [
      "Distance Metric: euclidean\n",
      "Accuracy: 0.9331658291457287\n",
      "F1-Score: 0.8520578420467185\n",
      "\n",
      "Distance Metric: manhattan\n",
      "Accuracy: 0.9326633165829146\n",
      "F1-Score: 0.8497757847533632\n",
      "\n",
      "Distance Metric: cosine\n",
      "Accuracy: 0.928894472361809\n",
      "F1-Score: 0.8489054991991457\n",
      "\n"
     ]
    }
   ],
   "source": [
    "# Define the distance metrics\n",
    "distance_metrics = ['euclidean', 'manhattan', 'cosine']\n",
    "\n",
    "# List to hold the accuracy and F1 results\n",
    "accuracy_results = []\n",
    "f1_results = []\n",
    "\n",
    "for metric in distance_metrics:\n",
    "    knn = KNeighborsClassifier(n_neighbors=best_k, metric=metric)\n",
    "    \n",
    "    knn.fit(X_train_selected, y_train)\n",
    "    y_test_predict = knn.predict(X_test_selected)\n",
    "    \n",
    "    # Calculating accuracy and F1-score\n",
    "    test_accuracy = accuracy_score(y_test, y_test_predict)\n",
    "    test_f1_score = f1_score(y_test, y_test_predict)\n",
    "    \n",
    "    accuracy_results.append(test_accuracy)\n",
    "    f1_results.append(test_f1_score)\n",
    "\n",
    "# Visualise using a bar chart\n",
    "x_labels = ['Euclidean (L2)', 'manhattan (L1)', 'Cosine']\n",
    "\n",
    "fig, ax = plt.subplots(1, 2, figsize=(12, 6))\n",
    "\n",
    "# Plot accuracy\n",
    "ax[0].bar(x_labels, accuracy_results, color='blue')\n",
    "ax[0].set_title('Accuracy for Different Distance Metrics')\n",
    "ax[0].set_ylabel('Accuracy')\n",
    "ax[0].set_ylim([0.8, 1.0])\n",
    "# Plot F1-score\n",
    "ax[1].bar(x_labels, f1_results, color='pink')\n",
    "ax[1].set_title('F1-Score for Different Distance Metrics')\n",
    "ax[1].set_ylabel('F1-Score')\n",
    "ax[1].set_ylim([0.7, 1.0])\n",
    "\n",
    "plt.tight_layout()\n",
    "plt.show()\n",
    "\n",
    "# Displaying the performance metrics\n",
    "for i, metric in enumerate(distance_metrics):\n",
    "    print(f\"Distance Metric: {metric}\")\n",
    "    print(f\"Accuracy: {accuracy_results[i]}\")\n",
    "    print(f\"F1-Score: {f1_results[i]}\\n\")\n"
   ]
  },
  {
   "cell_type": "markdown",
   "metadata": {},
   "source": [
    "## Comparison on the performance metrics\n",
    "\n",
    "### Metric results:\n",
    "\n",
    "1. Euclidean (L2):\n",
    "   * Accuracy = 93.32 %\n",
    "   * F1-Score = 0.8521\n",
    "\n",
    "2. Manhattan (L1):\n",
    "   * Accuracy = 93.27%\n",
    "   * F1-Score = 0.8498\n",
    "\n",
    "3. Cosine:\n",
    "   * Accuracy = 92.89%\n",
    "   * F1-Score = 0.8491\n",
    "\n",
    "### Best and Worst Performance:\n",
    "The best performance is Euclidean (L2) where it shows the highest accuracy (93.32%) and F1-Score (0.8521) in comparison to the other metrics.\n",
    "\n",
    "Cosine has shown the lowest accuracy (92.89%) and the lowest F1-Score(0.8491). Although the results are not too different from each other, it still performs slightly lower compared the other distance metrics.\n",
    "\n",
    "\n",
    "\n"
   ]
  }
 ],
 "metadata": {
  "colab": {
   "provenance": []
  },
  "kernelspec": {
   "display_name": "Python 3 (ipykernel)",
   "language": "python",
   "name": "python3"
  },
  "language_info": {
   "codemirror_mode": {
    "name": "ipython",
    "version": 3
   },
   "file_extension": ".py",
   "mimetype": "text/x-python",
   "name": "python",
   "nbconvert_exporter": "python",
   "pygments_lexer": "ipython3",
   "version": "3.12.4"
  }
 },
 "nbformat": 4,
 "nbformat_minor": 4
}
